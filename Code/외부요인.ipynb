{
 "cells": [
  {
   "cell_type": "code",
   "execution_count": 20,
   "id": "567ee370",
   "metadata": {},
   "outputs": [],
   "source": [
    "import pandas as pd\n",
    "csv_market = pd.read_csv('G:/공유 드라이브/통분방+공모전/데이터/전국_전통시장_표준데이터_20220706.csv',\n",
    "                        encoding='cp949')\n",
    "\n",
    "data = {'위도' : csv_market['위도'], '경도' : csv_market['경도']}\n",
    "df = pd.DataFrame(data)"
   ]
  },
  {
   "cell_type": "code",
   "execution_count": 32,
   "id": "e64dddda",
   "metadata": {},
   "outputs": [],
   "source": [
    "import requests\n",
    "import json\n",
    "\n",
    "lst_conv = []\n",
    "lst_mart = []\n",
    "lst_subw = []\n",
    "lst_cafe = []\n",
    "lst_food = []\n",
    "lst_scho = []\n",
    "\n",
    "for row in df.iterrows():\n",
    "    url = \"https://dapi.kakao.com/v2/local/search/keyword.json?y=\"+str(row[1]['위도'])+\"&x=\"+str(row[1]['경도'])+\"&radius=1000\"\n",
    "    \n",
    "    query_conv = {'query' : '편의점'}\n",
    "    query_mart = {'query' : '대형마트'}\n",
    "    query_subw = {'query' : '지하철역'}\n",
    "    query_cafe = {'query' : '카페'}\n",
    "    query_food = {'query' : '음식점'}\n",
    "    query_scho = {'query' : '학교'}\n",
    "    \n",
    "    header = {'Authorization': 'KakaoAK a2fba27f3df9c58f334f05f14025e5c7'}\n",
    "    \n",
    "    response_conv = requests.get(url, headers=header, params=query_conv)\n",
    "    response_mart = requests.get(url, headers=header, params=query_mart)\n",
    "    response_subw = requests.get(url, headers=header, params=query_subw)\n",
    "    response_cafe = requests.get(url, headers=header, params=query_cafe)\n",
    "    response_food = requests.get(url, headers=header, params=query_food)\n",
    "    response_scho = requests.get(url, headers=header, params=query_scho)\n",
    "    \n",
    "    tokens_conv = response_conv.json()\n",
    "    tokens_mart = response_mart.json()\n",
    "    tokens_subw = response_subw.json()\n",
    "    tokens_cafe = response_cafe.json()\n",
    "    tokens_food = response_food.json()\n",
    "    tokens_scho = response_scho.json()\n",
    "    \n",
    "    lst_conv.append(tokens_conv['meta']['total_count'])\n",
    "    \n",
    "    if tokens_mart['meta']['total_count'] == 0:\n",
    "        lst_mart.append(1)\n",
    "    else:\n",
    "        lst_mart.append(0)\n",
    "        \n",
    "    if tokens_subw['meta']['total_count'] == 0:\n",
    "        lst_subw.append(0)\n",
    "    else:\n",
    "        lst_subw.append(1)\n",
    "        \n",
    "    lst_cafe.append(tokens_cafe['meta']['total_count'])\n",
    "    lst_food.append(tokens_food['meta']['total_count'])\n",
    "    \n",
    "    num = 0\n",
    "    for i in range(0, min(tokens_scho['meta']['total_count'],14)):\n",
    "        split = tokens_scho['documents'][i]['category_name'].split('>')\n",
    "        if len(split)>1 and split[1] == ' 학교 ':\n",
    "            num += 1\n",
    "    lst_scho.append(num)"
   ]
  },
  {
   "cell_type": "code",
   "execution_count": 33,
   "id": "bf87e033",
   "metadata": {},
   "outputs": [],
   "source": [
    "people = pd.read_excel('G:/공유 드라이브/통분방+공모전/데이터/ㄱㄱ전통시장현황_최종 사본.xlsx')['유동인구'].tolist()\n",
    "df_market = pd.DataFrame({'편의점 수' : lst_conv,\n",
    "                         '대형마트 여부' : lst_mart,\n",
    "                         '지하철역 여부' : lst_subw,\n",
    "                         '카페 수' : lst_cafe,\n",
    "                         '음식점 수' : lst_food,\n",
    "                         '학교 수' : lst_scho,\n",
    "                         '유동인구' : people},\n",
    "                        index = csv_market['시장명'])\n",
    "df_market.to_csv('G:/공유 드라이브/통분방+공모전/데이터/카카오데이터.csv', encoding='euc-kr')"
   ]
  },
  {
   "cell_type": "code",
   "execution_count": null,
   "id": "f4590a46",
   "metadata": {},
   "outputs": [],
   "source": []
  }
 ],
 "metadata": {
  "kernelspec": {
   "display_name": "Python 3 (ipykernel)",
   "language": "python",
   "name": "python3"
  },
  "language_info": {
   "codemirror_mode": {
    "name": "ipython",
    "version": 3
   },
   "file_extension": ".py",
   "mimetype": "text/x-python",
   "name": "python",
   "nbconvert_exporter": "python",
   "pygments_lexer": "ipython3",
   "version": "3.9.12"
  }
 },
 "nbformat": 4,
 "nbformat_minor": 5
}
